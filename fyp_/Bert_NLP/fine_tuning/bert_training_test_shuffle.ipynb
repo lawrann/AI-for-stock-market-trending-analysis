{
  "nbformat": 4,
  "nbformat_minor": 0,
  "metadata": {
    "colab": {
      "name": "bert_training_test_shuffle.ipynb",
      "provenance": [],
      "collapsed_sections": []
    },
    "kernelspec": {
      "name": "python3",
      "display_name": "Python 3"
    }
  },
  "cells": [
    {
      "cell_type": "markdown",
      "metadata": {
        "id": "fLp5Rxccrfta",
        "colab_type": "text"
      },
      "source": [
        "For splitting the training1600000 data into shuffled train and test sets\n",
        "so that fine tuning can be performed easily. Data is stored into json and csv. However only the data from json will be used as the csv encoding edits the text within the tweets."
      ]
    },
    {
      "cell_type": "code",
      "metadata": {
        "id": "KF81__sTmy-Y",
        "colab_type": "code",
        "outputId": "164c2b0b-b054-45b0-e9b6-8c039a29f6b4",
        "colab": {
          "base_uri": "https://localhost:8080/",
          "height": 128
        }
      },
      "source": [
        "from google.colab import drive\n",
        "drive.mount('/content/drive')"
      ],
      "execution_count": 1,
      "outputs": [
        {
          "output_type": "stream",
          "text": [
            "Go to this URL in a browser: https://accounts.google.com/o/oauth2/auth?client_id=947318989803-6bn6qk8qdgf4n4g3pfee6491hc0brc4i.apps.googleusercontent.com&redirect_uri=urn%3aietf%3awg%3aoauth%3a2.0%3aoob&response_type=code&scope=email%20https%3a%2f%2fwww.googleapis.com%2fauth%2fdocs.test%20https%3a%2f%2fwww.googleapis.com%2fauth%2fdrive%20https%3a%2f%2fwww.googleapis.com%2fauth%2fdrive.photos.readonly%20https%3a%2f%2fwww.googleapis.com%2fauth%2fpeopleapi.readonly\n",
            "\n",
            "Enter your authorization code:\n",
            "··········\n",
            "Mounted at /content/drive\n"
          ],
          "name": "stdout"
        }
      ]
    },
    {
      "cell_type": "code",
      "metadata": {
        "id": "5JepkW09nHYr",
        "colab_type": "code",
        "colab": {}
      },
      "source": [
        "def strip_all_entities(text):\n",
        "    entity_prefixes = ['@','#']\n",
        "    words = []\n",
        "    for word in str(text).split():\n",
        "        word = str(word).strip()\n",
        "        if word:\n",
        "            if word[0] not in entity_prefixes:\n",
        "                words.append(word)\n",
        "    text = ' '.join(words)\n",
        "    text = text.replace(' ,', '')\n",
        "    text = text.replace(' , ', ' ')\n",
        "    return text\n",
        "\n",
        "def strip_links(text):\n",
        "    link_regex    = re.compile('((https?):((//)|(\\\\\\\\))+([\\w\\d:#@%/;$()~_?\\+-=\\\\\\.&](#!)?)*)', re.DOTALL)\n",
        "    links         = re.findall(link_regex, text)\n",
        "    for link in links:\n",
        "        text = text.replace(link[0], ', ')    \n",
        "    text = text.replace(',#', ' #')\n",
        "    return text.lower()"
      ],
      "execution_count": 0,
      "outputs": []
    },
    {
      "cell_type": "code",
      "metadata": {
        "id": "p9iA8lp_nRNk",
        "colab_type": "code",
        "outputId": "112e47e8-23f3-4f94-ef82-a1d9f7e32c02",
        "colab": {
          "base_uri": "https://localhost:8080/",
          "height": 65
        }
      },
      "source": [
        "from sklearn.model_selection import train_test_split\n",
        "import re\n",
        "import pandas as pd\n",
        "import tensorflow as tf\n",
        "import tensorflow_hub as hub\n",
        "from datetime import datetime"
      ],
      "execution_count": 3,
      "outputs": [
        {
          "output_type": "display_data",
          "data": {
            "text/html": [
              "<p style=\"color: red;\">\n",
              "The default version of TensorFlow in Colab will soon switch to TensorFlow 2.x.<br>\n",
              "We recommend you <a href=\"https://www.tensorflow.org/guide/migrate\" target=\"_blank\">upgrade</a> now \n",
              "or ensure your notebook will continue to use TensorFlow 1.x via the <code>%tensorflow_version 1.x</code> magic:\n",
              "<a href=\"https://colab.research.google.com/notebooks/tensorflow_version.ipynb\" target=\"_blank\">more info</a>.</p>\n"
            ],
            "text/plain": [
              "<IPython.core.display.HTML object>"
            ]
          },
          "metadata": {
            "tags": []
          }
        }
      ]
    },
    {
      "cell_type": "code",
      "metadata": {
        "id": "pxC37DY3nS32",
        "colab_type": "code",
        "colab": {}
      },
      "source": [
        "training_path = \"drive/My Drive/training1600000.csv\"\n",
        "\n",
        "# Load data to DF\n",
        "df = pd.read_csv(training_path, header=None, engine='python')\n",
        "df = df.drop(columns=[1,2,3,4]) # drop these 1: id, 2: datetime, 3: no_query, 4: user\n",
        "df[6] = df[5].apply(strip_links)\n",
        "df[7] = df[6].apply(strip_all_entities)\n",
        "df = df.drop(columns=[5,6])\n",
        "df.loc[df[0] == 4, 0] = 1"
      ],
      "execution_count": 0,
      "outputs": []
    },
    {
      "cell_type": "code",
      "metadata": {
        "id": "n8mdQTyAnkdU",
        "colab_type": "code",
        "colab": {}
      },
      "source": [
        "# As we have 1,600,000 tweets. Finetuning is done incrementally, hence I set \n",
        "# the number of testing data to 20,000.\n",
        "df_train = df[0:790000].append(df[800000:1590000], ignore_index=True, sort=True)\n",
        "df_test = df[790000:800000].append(df[1590000:1600000], ignore_index=True, sort=True)"
      ],
      "execution_count": 0,
      "outputs": []
    },
    {
      "cell_type": "code",
      "metadata": {
        "id": "xIsswlHmnoCV",
        "colab_type": "code",
        "colab": {}
      },
      "source": [
        "df_test_shuffled = df_test.sample(frac=1).reset_index(drop=True)\n",
        "df_train_shuffled = df_train.sample(frac=1).reset_index(drop=True)"
      ],
      "execution_count": 0,
      "outputs": []
    },
    {
      "cell_type": "code",
      "metadata": {
        "id": "tQ--PSpYojYo",
        "colab_type": "code",
        "outputId": "5aaa513a-89f4-43d9-ef20-fca39795b739",
        "colab": {
          "base_uri": "https://localhost:8080/",
          "height": 407
        }
      },
      "source": [
        "df_test_shuffled"
      ],
      "execution_count": 7,
      "outputs": [
        {
          "output_type": "execute_result",
          "data": {
            "text/html": [
              "<div>\n",
              "<style scoped>\n",
              "    .dataframe tbody tr th:only-of-type {\n",
              "        vertical-align: middle;\n",
              "    }\n",
              "\n",
              "    .dataframe tbody tr th {\n",
              "        vertical-align: top;\n",
              "    }\n",
              "\n",
              "    .dataframe thead th {\n",
              "        text-align: right;\n",
              "    }\n",
              "</style>\n",
              "<table border=\"1\" class=\"dataframe\">\n",
              "  <thead>\n",
              "    <tr style=\"text-align: right;\">\n",
              "      <th></th>\n",
              "      <th>0</th>\n",
              "      <th>7</th>\n",
              "    </tr>\n",
              "  </thead>\n",
              "  <tbody>\n",
              "    <tr>\n",
              "      <th>0</th>\n",
              "      <td>1</td>\n",
              "      <td>eating dinner while harvesting 106 fields of s...</td>\n",
              "    </tr>\n",
              "    <tr>\n",
              "      <th>1</th>\n",
              "      <td>0</td>\n",
              "      <td>i must first do laundry, than study.. i can't ...</td>\n",
              "    </tr>\n",
              "    <tr>\n",
              "      <th>2</th>\n",
              "      <td>1</td>\n",
              "      <td>funny, but there is a twitter user called mike...</td>\n",
              "    </tr>\n",
              "    <tr>\n",
              "      <th>3</th>\n",
              "      <td>0</td>\n",
              "      <td>i want to see taking back sunday again. two ti...</td>\n",
              "    </tr>\n",
              "    <tr>\n",
              "      <th>4</th>\n",
              "      <td>0</td>\n",
              "      <td>ok i tried to sign up like 3 times after putti...</td>\n",
              "    </tr>\n",
              "    <tr>\n",
              "      <th>...</th>\n",
              "      <td>...</td>\n",
              "      <td>...</td>\n",
              "    </tr>\n",
              "    <tr>\n",
              "      <th>19995</th>\n",
              "      <td>0</td>\n",
              "      <td>ed mcmahon and now farrah fawcett.. sad week</td>\n",
              "    </tr>\n",
              "    <tr>\n",
              "      <th>19996</th>\n",
              "      <td>1</td>\n",
              "      <td>work then gym. &amp;gt;17 days til i'm in north ca...</td>\n",
              "    </tr>\n",
              "    <tr>\n",
              "      <th>19997</th>\n",
              "      <td>0</td>\n",
              "      <td>just talked to my baby! aww i miss him so much!!!</td>\n",
              "    </tr>\n",
              "    <tr>\n",
              "      <th>19998</th>\n",
              "      <td>1</td>\n",
              "      <td>just purchased my first song from itunes. by g...</td>\n",
              "    </tr>\n",
              "    <tr>\n",
              "      <th>19999</th>\n",
              "      <td>1</td>\n",
              "      <td>great night sleep. great morning run. lets see...</td>\n",
              "    </tr>\n",
              "  </tbody>\n",
              "</table>\n",
              "<p>20000 rows × 2 columns</p>\n",
              "</div>"
            ],
            "text/plain": [
              "       0                                                  7\n",
              "0      1  eating dinner while harvesting 106 fields of s...\n",
              "1      0  i must first do laundry, than study.. i can't ...\n",
              "2      1  funny, but there is a twitter user called mike...\n",
              "3      0  i want to see taking back sunday again. two ti...\n",
              "4      0  ok i tried to sign up like 3 times after putti...\n",
              "...   ..                                                ...\n",
              "19995  0       ed mcmahon and now farrah fawcett.. sad week\n",
              "19996  1  work then gym. &gt;17 days til i'm in north ca...\n",
              "19997  0  just talked to my baby! aww i miss him so much!!!\n",
              "19998  1  just purchased my first song from itunes. by g...\n",
              "19999  1  great night sleep. great morning run. lets see...\n",
              "\n",
              "[20000 rows x 2 columns]"
            ]
          },
          "metadata": {
            "tags": []
          },
          "execution_count": 7
        }
      ]
    },
    {
      "cell_type": "code",
      "metadata": {
        "id": "MDOh3GrWokEr",
        "colab_type": "code",
        "outputId": "1a1aed9c-24a0-44f6-a4b8-1713ef9fc6fe",
        "colab": {
          "base_uri": "https://localhost:8080/",
          "height": 407
        }
      },
      "source": [
        "df_train_shuffled"
      ],
      "execution_count": 8,
      "outputs": [
        {
          "output_type": "execute_result",
          "data": {
            "text/html": [
              "<div>\n",
              "<style scoped>\n",
              "    .dataframe tbody tr th:only-of-type {\n",
              "        vertical-align: middle;\n",
              "    }\n",
              "\n",
              "    .dataframe tbody tr th {\n",
              "        vertical-align: top;\n",
              "    }\n",
              "\n",
              "    .dataframe thead th {\n",
              "        text-align: right;\n",
              "    }\n",
              "</style>\n",
              "<table border=\"1\" class=\"dataframe\">\n",
              "  <thead>\n",
              "    <tr style=\"text-align: right;\">\n",
              "      <th></th>\n",
              "      <th>0</th>\n",
              "      <th>7</th>\n",
              "    </tr>\n",
              "  </thead>\n",
              "  <tbody>\n",
              "    <tr>\n",
              "      <th>0</th>\n",
              "      <td>1</td>\n",
              "      <td>give him a chance, it took conan 7 years 2 be ...</td>\n",
              "    </tr>\n",
              "    <tr>\n",
              "      <th>1</th>\n",
              "      <td>0</td>\n",
              "      <td>going to go watch a movie and then go to bed g...</td>\n",
              "    </tr>\n",
              "    <tr>\n",
              "      <th>2</th>\n",
              "      <td>1</td>\n",
              "      <td>haaaaaa! i love your ideas</td>\n",
              "    </tr>\n",
              "    <tr>\n",
              "      <th>3</th>\n",
              "      <td>1</td>\n",
              "      <td>nyc here i come! just had a cup of coffee with...</td>\n",
              "    </tr>\n",
              "    <tr>\n",
              "      <th>4</th>\n",
              "      <td>0</td>\n",
              "      <td>my bape keychain fell off grrrrr</td>\n",
              "    </tr>\n",
              "    <tr>\n",
              "      <th>...</th>\n",
              "      <td>...</td>\n",
              "      <td>...</td>\n",
              "    </tr>\n",
              "    <tr>\n",
              "      <th>1579995</th>\n",
              "      <td>0</td>\n",
              "      <td>night twitterstars!!! i go to kentucky on wed....</td>\n",
              "    </tr>\n",
              "    <tr>\n",
              "      <th>1579996</th>\n",
              "      <td>0</td>\n",
              "      <td>boo i told you it would be too long...we gotta...</td>\n",
              "    </tr>\n",
              "    <tr>\n",
              "      <th>1579997</th>\n",
              "      <td>0</td>\n",
              "      <td>omg forreal?! im still in bmore! whens he comi...</td>\n",
              "    </tr>\n",
              "    <tr>\n",
              "      <th>1579998</th>\n",
              "      <td>0</td>\n",
              "      <td>deleting deleting deleting - cleared about 2k ...</td>\n",
              "    </tr>\n",
              "    <tr>\n",
              "      <th>1579999</th>\n",
              "      <td>0</td>\n",
              "      <td>you know that time when you realize your babie...</td>\n",
              "    </tr>\n",
              "  </tbody>\n",
              "</table>\n",
              "<p>1580000 rows × 2 columns</p>\n",
              "</div>"
            ],
            "text/plain": [
              "         0                                                  7\n",
              "0        1  give him a chance, it took conan 7 years 2 be ...\n",
              "1        0  going to go watch a movie and then go to bed g...\n",
              "2        1                         haaaaaa! i love your ideas\n",
              "3        1  nyc here i come! just had a cup of coffee with...\n",
              "4        0                   my bape keychain fell off grrrrr\n",
              "...     ..                                                ...\n",
              "1579995  0  night twitterstars!!! i go to kentucky on wed....\n",
              "1579996  0  boo i told you it would be too long...we gotta...\n",
              "1579997  0  omg forreal?! im still in bmore! whens he comi...\n",
              "1579998  0  deleting deleting deleting - cleared about 2k ...\n",
              "1579999  0  you know that time when you realize your babie...\n",
              "\n",
              "[1580000 rows x 2 columns]"
            ]
          },
          "metadata": {
            "tags": []
          },
          "execution_count": 8
        }
      ]
    },
    {
      "cell_type": "code",
      "metadata": {
        "id": "8snqBX4_ou6E",
        "colab_type": "code",
        "colab": {}
      },
      "source": [
        "df_train_shuffled.to_csv('train_shuffled.csv')\n",
        "df_test_shuffled.to_csv('test_shuffled.csv')\n",
        "df_train_shuffled.to_json('train_shuffled.json')\n",
        "df_test_shuffled.to_json('test_shuffled.json')\n",
        "!cp train_shuffled.csv \"drive/My Drive/bert_train_test_csv\"\n",
        "!cp test_shuffled.csv \"drive/My Drive/bert_train_test_csv\"\n",
        "!cp train_shuffled.json \"drive/My Drive/bert_train_test_json\"\n",
        "!cp test_shuffled.json \"drive/My Drive/bert_train_test_json\""
      ],
      "execution_count": 0,
      "outputs": []
    },
    {
      "cell_type": "code",
      "metadata": {
        "id": "9ndfJPwoS-NI",
        "colab_type": "code",
        "colab": {}
      },
      "source": [
        "train_path = \"drive/My Drive/bert_train_test_json/train_shuffled.json\"\n",
        "test_path = \"drive/My Drive/bert_train_test_json/test_shuffled.json\""
      ],
      "execution_count": 0,
      "outputs": []
    },
    {
      "cell_type": "code",
      "metadata": {
        "id": "wsqHCINrYMfj",
        "colab_type": "code",
        "colab": {}
      },
      "source": [
        "df_train = pd.read_json(train_path, lines=False)\n",
        "df_test = pd.read_json(test_path, lines=False)"
      ],
      "execution_count": 0,
      "outputs": []
    },
    {
      "cell_type": "code",
      "metadata": {
        "id": "sXl_O7K-YQdf",
        "colab_type": "code",
        "outputId": "40ff0f23-2eba-4702-df17-87677306b352",
        "colab": {
          "base_uri": "https://localhost:8080/",
          "height": 407
        }
      },
      "source": [
        "df_test"
      ],
      "execution_count": 0,
      "outputs": [
        {
          "output_type": "execute_result",
          "data": {
            "text/html": [
              "<div>\n",
              "<style scoped>\n",
              "    .dataframe tbody tr th:only-of-type {\n",
              "        vertical-align: middle;\n",
              "    }\n",
              "\n",
              "    .dataframe tbody tr th {\n",
              "        vertical-align: top;\n",
              "    }\n",
              "\n",
              "    .dataframe thead th {\n",
              "        text-align: right;\n",
              "    }\n",
              "</style>\n",
              "<table border=\"1\" class=\"dataframe\">\n",
              "  <thead>\n",
              "    <tr style=\"text-align: right;\">\n",
              "      <th></th>\n",
              "      <th>0</th>\n",
              "      <th>7</th>\n",
              "    </tr>\n",
              "  </thead>\n",
              "  <tbody>\n",
              "    <tr>\n",
              "      <th>0</th>\n",
              "      <td>0</td>\n",
              "      <td>yes! the clap must be done! i miss the scissor...</td>\n",
              "    </tr>\n",
              "    <tr>\n",
              "      <th>1</th>\n",
              "      <td>0</td>\n",
              "      <td>you missed the fireworks over the detroit rive...</td>\n",
              "    </tr>\n",
              "    <tr>\n",
              "      <th>2</th>\n",
              "      <td>0</td>\n",
              "      <td>i keep falling asleep.. its too early to liste...</td>\n",
              "    </tr>\n",
              "    <tr>\n",
              "      <th>3</th>\n",
              "      <td>0</td>\n",
              "      <td>super rough morning... in so many ways. couldn...</td>\n",
              "    </tr>\n",
              "    <tr>\n",
              "      <th>4</th>\n",
              "      <td>1</td>\n",
              "      <td>well hello there yes we have</td>\n",
              "    </tr>\n",
              "    <tr>\n",
              "      <th>...</th>\n",
              "      <td>...</td>\n",
              "      <td>...</td>\n",
              "    </tr>\n",
              "    <tr>\n",
              "      <th>19995</th>\n",
              "      <td>0</td>\n",
              "      <td>i miss all of my thursday meals kitchen friend...</td>\n",
              "    </tr>\n",
              "    <tr>\n",
              "      <th>19996</th>\n",
              "      <td>1</td>\n",
              "      <td>oh okay, well i did know the first band you me...</td>\n",
              "    </tr>\n",
              "    <tr>\n",
              "      <th>19997</th>\n",
              "      <td>1</td>\n",
              "      <td>says follow me on twitter... and i also follow...</td>\n",
              "    </tr>\n",
              "    <tr>\n",
              "      <th>19998</th>\n",
              "      <td>0</td>\n",
              "      <td>i'm afraid patrick swayze is not doing so well...</td>\n",
              "    </tr>\n",
              "    <tr>\n",
              "      <th>19999</th>\n",
              "      <td>0</td>\n",
              "      <td>i wish i could! but i have to go away for two ...</td>\n",
              "    </tr>\n",
              "  </tbody>\n",
              "</table>\n",
              "<p>20000 rows × 2 columns</p>\n",
              "</div>"
            ],
            "text/plain": [
              "       0                                                  7\n",
              "0      0  yes! the clap must be done! i miss the scissor...\n",
              "1      0  you missed the fireworks over the detroit rive...\n",
              "2      0  i keep falling asleep.. its too early to liste...\n",
              "3      0  super rough morning... in so many ways. couldn...\n",
              "4      1                       well hello there yes we have\n",
              "...   ..                                                ...\n",
              "19995  0  i miss all of my thursday meals kitchen friend...\n",
              "19996  1  oh okay, well i did know the first band you me...\n",
              "19997  1  says follow me on twitter... and i also follow...\n",
              "19998  0  i'm afraid patrick swayze is not doing so well...\n",
              "19999  0  i wish i could! but i have to go away for two ...\n",
              "\n",
              "[20000 rows x 2 columns]"
            ]
          },
          "metadata": {
            "tags": []
          },
          "execution_count": 16
        }
      ]
    },
    {
      "cell_type": "code",
      "metadata": {
        "id": "-yORq5A8V5ej",
        "colab_type": "code",
        "colab": {}
      },
      "source": [
        "import os\n",
        "\n",
        "os.getcwd()\n",
        "os.listdir()"
      ],
      "execution_count": 0,
      "outputs": []
    },
    {
      "cell_type": "code",
      "metadata": {
        "id": "LGgj990JV6-e",
        "colab_type": "code",
        "colab": {}
      },
      "source": [
        "os.chdir('..')"
      ],
      "execution_count": 0,
      "outputs": []
    }
  ]
}